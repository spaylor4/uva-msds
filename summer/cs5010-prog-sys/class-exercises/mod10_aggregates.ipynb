{
 "cells": [
  {
   "cell_type": "markdown",
   "metadata": {},
   "source": [
    "## Module 10 Exercise: Aggregates\n",
    "\n",
    "Shannon Paylor (sep4hy)\n",
    "\n",
    "#### Part 1: Function Summaries\n",
    "\n",
    "* `np.mean` returns the average of all values in an array.\n",
    "\n",
    "* `np.std` returns the standard deviation of all values in an array.\n",
    "\n",
    "* `np.var` returns the variance of all values in an array.\n",
    "\n",
    "* `np.argmin` returns the index of the minimum value of an array.\n",
    "\n",
    "* `np.argmax` returns the index of the maximum value of an array.\n",
    "\n",
    "* `np.median` returns the median value of an array.\n",
    "\n",
    "* `np.percentile` returns the value(s) of an array at one or more specified percentiles. For example, `np.percentile(array, [25, 50, 75])` will return the median and first and third quartiles of a given array.\n",
    "\n",
    "#### Part 2: Sample Usage of Aggregate Functions"
   ]
  },
  {
   "cell_type": "code",
   "execution_count": null,
   "metadata": {},
   "outputs": [],
   "source": [
    "import numpy as np\n",
    "import pandas as pd"
   ]
  },
  {
   "cell_type": "code",
   "execution_count": 5,
   "metadata": {},
   "outputs": [],
   "source": [
    "#create dummy data for testing\n",
    "dummy = [85, 70, 100, 92]\n",
    "dummy_2d = np.array([[1, 2, 3], [4, 5, 6], [7, 8, 9]])"
   ]
  },
  {
   "cell_type": "code",
   "execution_count": 6,
   "metadata": {},
   "outputs": [
    {
     "data": {
      "text/plain": [
       "88.5"
      ]
     },
     "execution_count": 6,
     "metadata": {},
     "output_type": "execute_result"
    }
   ],
   "source": [
    "#median of 1d array\n",
    "np.median(dummy)"
   ]
  },
  {
   "cell_type": "code",
   "execution_count": 7,
   "metadata": {},
   "outputs": [
    {
     "data": {
      "text/plain": [
       "5.0"
      ]
     },
     "execution_count": 7,
     "metadata": {},
     "output_type": "execute_result"
    }
   ],
   "source": [
    "#mean of 2d array (all values)\n",
    "np.mean(dummy_2d)"
   ]
  },
  {
   "cell_type": "code",
   "execution_count": 9,
   "metadata": {},
   "outputs": [
    {
     "data": {
      "text/plain": [
       "array([2., 5., 8.])"
      ]
     },
     "execution_count": 9,
     "metadata": {},
     "output_type": "execute_result"
    }
   ],
   "source": [
    "#mean of 2d array (each row)\n",
    "np.mean(dummy_2d, axis = 1)"
   ]
  },
  {
   "cell_type": "code",
   "execution_count": 26,
   "metadata": {},
   "outputs": [
    {
     "data": {
      "text/plain": [
       "array([4., 5., 6.])"
      ]
     },
     "execution_count": 26,
     "metadata": {},
     "output_type": "execute_result"
    }
   ],
   "source": [
    "#mean of 2d array (each column)\n",
    "np.mean(dummy_2d, axis = 0)"
   ]
  },
  {
   "cell_type": "code",
   "execution_count": 10,
   "metadata": {},
   "outputs": [
    {
     "data": {
      "text/plain": [
       "2"
      ]
     },
     "execution_count": 10,
     "metadata": {},
     "output_type": "execute_result"
    }
   ],
   "source": [
    "#index of max of 1d array\n",
    "np.argmax(dummy)"
   ]
  },
  {
   "cell_type": "code",
   "execution_count": 11,
   "metadata": {},
   "outputs": [
    {
     "data": {
      "text/plain": [
       "array([81.25, 88.5 , 94.  ])"
      ]
     },
     "execution_count": 11,
     "metadata": {},
     "output_type": "execute_result"
    }
   ],
   "source": [
    "#get quartiles of 1d array\n",
    "np.percentile(dummy, [25, 50, 75])"
   ]
  },
  {
   "cell_type": "markdown",
   "metadata": {},
   "source": [
    "#### Part 3: Queries on Data"
   ]
  },
  {
   "cell_type": "code",
   "execution_count": 14,
   "metadata": {},
   "outputs": [],
   "source": [
    "#read in data\n",
    "#using some census population data downloaded for the project (but doing new queries)\n",
    "df = pd.read_csv('../project/cbsa_pop_est2019.csv', encoding = 'latin1')"
   ]
  },
  {
   "cell_type": "code",
   "execution_count": 15,
   "metadata": {},
   "outputs": [
    {
     "data": {
      "text/html": [
       "<div>\n",
       "<style scoped>\n",
       "    .dataframe tbody tr th:only-of-type {\n",
       "        vertical-align: middle;\n",
       "    }\n",
       "\n",
       "    .dataframe tbody tr th {\n",
       "        vertical-align: top;\n",
       "    }\n",
       "\n",
       "    .dataframe thead th {\n",
       "        text-align: right;\n",
       "    }\n",
       "</style>\n",
       "<table border=\"1\" class=\"dataframe\">\n",
       "  <thead>\n",
       "    <tr style=\"text-align: right;\">\n",
       "      <th></th>\n",
       "      <th>CBSA</th>\n",
       "      <th>MDIV</th>\n",
       "      <th>STCOU</th>\n",
       "      <th>NAME</th>\n",
       "      <th>LSAD</th>\n",
       "      <th>CENSUS2010POP</th>\n",
       "      <th>ESTIMATESBASE2010</th>\n",
       "      <th>POPESTIMATE2010</th>\n",
       "      <th>POPESTIMATE2011</th>\n",
       "      <th>POPESTIMATE2012</th>\n",
       "      <th>...</th>\n",
       "      <th>RESIDUAL2010</th>\n",
       "      <th>RESIDUAL2011</th>\n",
       "      <th>RESIDUAL2012</th>\n",
       "      <th>RESIDUAL2013</th>\n",
       "      <th>RESIDUAL2014</th>\n",
       "      <th>RESIDUAL2015</th>\n",
       "      <th>RESIDUAL2016</th>\n",
       "      <th>RESIDUAL2017</th>\n",
       "      <th>RESIDUAL2018</th>\n",
       "      <th>RESIDUAL2019</th>\n",
       "    </tr>\n",
       "  </thead>\n",
       "  <tbody>\n",
       "    <tr>\n",
       "      <th>0</th>\n",
       "      <td>10180</td>\n",
       "      <td>NaN</td>\n",
       "      <td>NaN</td>\n",
       "      <td>Abilene, TX</td>\n",
       "      <td>Metropolitan Statistical Area</td>\n",
       "      <td>165252</td>\n",
       "      <td>165252</td>\n",
       "      <td>165585</td>\n",
       "      <td>166634</td>\n",
       "      <td>167442</td>\n",
       "      <td>...</td>\n",
       "      <td>-5</td>\n",
       "      <td>-3</td>\n",
       "      <td>-9</td>\n",
       "      <td>23</td>\n",
       "      <td>-22</td>\n",
       "      <td>-17</td>\n",
       "      <td>-4</td>\n",
       "      <td>-5</td>\n",
       "      <td>-4</td>\n",
       "      <td>-9</td>\n",
       "    </tr>\n",
       "    <tr>\n",
       "      <th>1</th>\n",
       "      <td>10180</td>\n",
       "      <td>NaN</td>\n",
       "      <td>48059.0</td>\n",
       "      <td>Callahan County, TX</td>\n",
       "      <td>County or equivalent</td>\n",
       "      <td>13544</td>\n",
       "      <td>13545</td>\n",
       "      <td>13512</td>\n",
       "      <td>13511</td>\n",
       "      <td>13488</td>\n",
       "      <td>...</td>\n",
       "      <td>-1</td>\n",
       "      <td>-1</td>\n",
       "      <td>-1</td>\n",
       "      <td>-2</td>\n",
       "      <td>-2</td>\n",
       "      <td>-1</td>\n",
       "      <td>0</td>\n",
       "      <td>0</td>\n",
       "      <td>0</td>\n",
       "      <td>-1</td>\n",
       "    </tr>\n",
       "    <tr>\n",
       "      <th>2</th>\n",
       "      <td>10180</td>\n",
       "      <td>NaN</td>\n",
       "      <td>48253.0</td>\n",
       "      <td>Jones County, TX</td>\n",
       "      <td>County or equivalent</td>\n",
       "      <td>20202</td>\n",
       "      <td>20192</td>\n",
       "      <td>20238</td>\n",
       "      <td>20270</td>\n",
       "      <td>19870</td>\n",
       "      <td>...</td>\n",
       "      <td>1</td>\n",
       "      <td>3</td>\n",
       "      <td>14</td>\n",
       "      <td>5</td>\n",
       "      <td>1</td>\n",
       "      <td>1</td>\n",
       "      <td>-1</td>\n",
       "      <td>0</td>\n",
       "      <td>-1</td>\n",
       "      <td>-2</td>\n",
       "    </tr>\n",
       "    <tr>\n",
       "      <th>3</th>\n",
       "      <td>10180</td>\n",
       "      <td>NaN</td>\n",
       "      <td>48441.0</td>\n",
       "      <td>Taylor County, TX</td>\n",
       "      <td>County or equivalent</td>\n",
       "      <td>131506</td>\n",
       "      <td>131515</td>\n",
       "      <td>131835</td>\n",
       "      <td>132853</td>\n",
       "      <td>134084</td>\n",
       "      <td>...</td>\n",
       "      <td>-5</td>\n",
       "      <td>-5</td>\n",
       "      <td>-22</td>\n",
       "      <td>20</td>\n",
       "      <td>-21</td>\n",
       "      <td>-17</td>\n",
       "      <td>-3</td>\n",
       "      <td>-5</td>\n",
       "      <td>-3</td>\n",
       "      <td>-6</td>\n",
       "    </tr>\n",
       "    <tr>\n",
       "      <th>4</th>\n",
       "      <td>10420</td>\n",
       "      <td>NaN</td>\n",
       "      <td>NaN</td>\n",
       "      <td>Akron, OH</td>\n",
       "      <td>Metropolitan Statistical Area</td>\n",
       "      <td>703200</td>\n",
       "      <td>703196</td>\n",
       "      <td>703031</td>\n",
       "      <td>703200</td>\n",
       "      <td>702109</td>\n",
       "      <td>...</td>\n",
       "      <td>-33</td>\n",
       "      <td>-12</td>\n",
       "      <td>-48</td>\n",
       "      <td>-87</td>\n",
       "      <td>-115</td>\n",
       "      <td>-48</td>\n",
       "      <td>-17</td>\n",
       "      <td>-27</td>\n",
       "      <td>-18</td>\n",
       "      <td>-22</td>\n",
       "    </tr>\n",
       "  </tbody>\n",
       "</table>\n",
       "<p>5 rows × 97 columns</p>\n",
       "</div>"
      ],
      "text/plain": [
       "    CBSA  MDIV    STCOU                 NAME                           LSAD  \\\n",
       "0  10180   NaN      NaN          Abilene, TX  Metropolitan Statistical Area   \n",
       "1  10180   NaN  48059.0  Callahan County, TX           County or equivalent   \n",
       "2  10180   NaN  48253.0     Jones County, TX           County or equivalent   \n",
       "3  10180   NaN  48441.0    Taylor County, TX           County or equivalent   \n",
       "4  10420   NaN      NaN            Akron, OH  Metropolitan Statistical Area   \n",
       "\n",
       "   CENSUS2010POP  ESTIMATESBASE2010  POPESTIMATE2010  POPESTIMATE2011  \\\n",
       "0         165252             165252           165585           166634   \n",
       "1          13544              13545            13512            13511   \n",
       "2          20202              20192            20238            20270   \n",
       "3         131506             131515           131835           132853   \n",
       "4         703200             703196           703031           703200   \n",
       "\n",
       "   POPESTIMATE2012  ...  RESIDUAL2010  RESIDUAL2011  RESIDUAL2012  \\\n",
       "0           167442  ...            -5            -3            -9   \n",
       "1            13488  ...            -1            -1            -1   \n",
       "2            19870  ...             1             3            14   \n",
       "3           134084  ...            -5            -5           -22   \n",
       "4           702109  ...           -33           -12           -48   \n",
       "\n",
       "   RESIDUAL2013  RESIDUAL2014  RESIDUAL2015  RESIDUAL2016  RESIDUAL2017  \\\n",
       "0            23           -22           -17            -4            -5   \n",
       "1            -2            -2            -1             0             0   \n",
       "2             5             1             1            -1             0   \n",
       "3            20           -21           -17            -3            -5   \n",
       "4           -87          -115           -48           -17           -27   \n",
       "\n",
       "   RESIDUAL2018  RESIDUAL2019  \n",
       "0            -4            -9  \n",
       "1             0            -1  \n",
       "2            -1            -2  \n",
       "3            -3            -6  \n",
       "4           -18           -22  \n",
       "\n",
       "[5 rows x 97 columns]"
      ]
     },
     "execution_count": 15,
     "metadata": {},
     "output_type": "execute_result"
    }
   ],
   "source": [
    "df.head()"
   ]
  },
  {
   "cell_type": "code",
   "execution_count": 18,
   "metadata": {},
   "outputs": [],
   "source": [
    "#split city+state into individual columns\n",
    "df[['CITY', 'STATE']] = df['NAME'].str.split(', ', expand = True)"
   ]
  },
  {
   "cell_type": "code",
   "execution_count": 21,
   "metadata": {},
   "outputs": [
    {
     "data": {
      "text/plain": [
       "LSAD                           STATE\n",
       "County or equivalent           AK        5\n",
       "                               AL       45\n",
       "                               AR       41\n",
       "                               AZ       12\n",
       "                               CA       45\n",
       "                                        ..\n",
       "Micropolitan Statistical Area  WV        4\n",
       "                               WV-OH     1\n",
       "                               WV-VA     1\n",
       "                               WY        6\n",
       "                               WY-ID     1\n",
       "Name: CBSA, Length: 220, dtype: int64"
      ]
     },
     "execution_count": 21,
     "metadata": {},
     "output_type": "execute_result"
    }
   ],
   "source": [
    "### Query 1 ------------------------------\n",
    "#how many CBSAs per LSAD type per state?\n",
    "#CBSA is census bureau statistical area ID\n",
    "#LSAD is area type ('Metropolitan Statistical Area', 'County or equivalent', 'Metropolitan Division', 'Micropolitan Statistical Area')\n",
    "\n",
    "df.groupby(['LSAD', 'STATE'])['CBSA'].count()"
   ]
  },
  {
   "cell_type": "markdown",
   "metadata": {},
   "source": [
    "Unsurprisingly, Alaska has far fewer statistical areas than California. Interestingly, there are some MSAs that span two states, which makes sense given that some cities near state borders have residents in multiple states."
   ]
  },
  {
   "cell_type": "code",
   "execution_count": 22,
   "metadata": {},
   "outputs": [
    {
     "data": {
      "text/plain": [
       "STATE  LSAD                         \n",
       "AK     County or equivalent              523154\n",
       "       Metropolitan Statistical Area     478402\n",
       "       Micropolitan Statistical Area      44752\n",
       "AL     County or equivalent             4345138\n",
       "       Metropolitan Statistical Area    3515052\n",
       "                                         ...   \n",
       "WV-VA  Micropolitan Statistical Area     114166\n",
       "WY     County or equivalent              419368\n",
       "       Metropolitan Statistical Area     167188\n",
       "       Micropolitan Statistical Area     230886\n",
       "WY-ID  Micropolitan Statistical Area      31464\n",
       "Name: CENSUS2010POP, Length: 220, dtype: int64"
      ]
     },
     "execution_count": 22,
     "metadata": {},
     "output_type": "execute_result"
    }
   ],
   "source": [
    "### Query 2 -------------------------------------------\n",
    "#\"county or equivalent\" appears to be a subcategory of MSA\n",
    "#are population totals grouped by state and LSAD equal for different LSADs?\n",
    "\n",
    "df.groupby(['STATE', 'LSAD'])['CENSUS2010POP'].sum()"
   ]
  },
  {
   "cell_type": "code",
   "execution_count": 24,
   "metadata": {},
   "outputs": [
    {
     "data": {
      "text/plain": [
       "523154"
      ]
     },
     "execution_count": 24,
     "metadata": {},
     "output_type": "execute_result"
    }
   ],
   "source": [
    "print(\"WY MSAs total pop is \" + str(167188+230886))\n",
    "\n",
    "print(\"AK MSAs total pop is \" + str(478402+44752))"
   ]
  },
  {
   "cell_type": "markdown",
   "metadata": {},
   "source": [
    "It appears that County or equivalent LSADs have the same total population as Metropolitan + Micropolitan Statistical Areas, with some slight discrepancies for MSAs spanning two states, as seen with Wyoming."
   ]
  },
  {
   "cell_type": "code",
   "execution_count": 27,
   "metadata": {},
   "outputs": [
    {
     "data": {
      "text/html": [
       "<div>\n",
       "<style scoped>\n",
       "    .dataframe tbody tr th:only-of-type {\n",
       "        vertical-align: middle;\n",
       "    }\n",
       "\n",
       "    .dataframe tbody tr th {\n",
       "        vertical-align: top;\n",
       "    }\n",
       "\n",
       "    .dataframe thead th {\n",
       "        text-align: right;\n",
       "    }\n",
       "</style>\n",
       "<table border=\"1\" class=\"dataframe\">\n",
       "  <thead>\n",
       "    <tr style=\"text-align: right;\">\n",
       "      <th></th>\n",
       "      <th></th>\n",
       "      <th>CENSUS2010POP</th>\n",
       "      <th>POPESTIMATE2019</th>\n",
       "    </tr>\n",
       "    <tr>\n",
       "      <th>STATE</th>\n",
       "      <th>CITY</th>\n",
       "      <th></th>\n",
       "      <th></th>\n",
       "    </tr>\n",
       "  </thead>\n",
       "  <tbody>\n",
       "    <tr>\n",
       "      <th rowspan=\"4\" valign=\"top\">AK</th>\n",
       "      <th>Anchorage</th>\n",
       "      <td>380821</td>\n",
       "      <td>396317</td>\n",
       "    </tr>\n",
       "    <tr>\n",
       "      <th>Fairbanks</th>\n",
       "      <td>97581</td>\n",
       "      <td>96849</td>\n",
       "    </tr>\n",
       "    <tr>\n",
       "      <th>Juneau</th>\n",
       "      <td>31275</td>\n",
       "      <td>31974</td>\n",
       "    </tr>\n",
       "    <tr>\n",
       "      <th>Ketchikan</th>\n",
       "      <td>13477</td>\n",
       "      <td>13901</td>\n",
       "    </tr>\n",
       "    <tr>\n",
       "      <th>AL</th>\n",
       "      <th>Albertville</th>\n",
       "      <td>93019</td>\n",
       "      <td>96774</td>\n",
       "    </tr>\n",
       "    <tr>\n",
       "      <th>...</th>\n",
       "      <th>...</th>\n",
       "      <td>...</td>\n",
       "      <td>...</td>\n",
       "    </tr>\n",
       "    <tr>\n",
       "      <th rowspan=\"4\" valign=\"top\">WY</th>\n",
       "      <th>Laramie</th>\n",
       "      <td>36299</td>\n",
       "      <td>38880</td>\n",
       "    </tr>\n",
       "    <tr>\n",
       "      <th>Riverton</th>\n",
       "      <td>40123</td>\n",
       "      <td>39261</td>\n",
       "    </tr>\n",
       "    <tr>\n",
       "      <th>Rock Springs</th>\n",
       "      <td>43806</td>\n",
       "      <td>42343</td>\n",
       "    </tr>\n",
       "    <tr>\n",
       "      <th>Sheridan</th>\n",
       "      <td>29116</td>\n",
       "      <td>30485</td>\n",
       "    </tr>\n",
       "    <tr>\n",
       "      <th>WY-ID</th>\n",
       "      <th>Jackson</th>\n",
       "      <td>31464</td>\n",
       "      <td>35606</td>\n",
       "    </tr>\n",
       "  </tbody>\n",
       "</table>\n",
       "<p>926 rows × 2 columns</p>\n",
       "</div>"
      ],
      "text/plain": [
       "                    CENSUS2010POP  POPESTIMATE2019\n",
       "STATE CITY                                        \n",
       "AK    Anchorage            380821           396317\n",
       "      Fairbanks             97581            96849\n",
       "      Juneau                31275            31974\n",
       "      Ketchikan             13477            13901\n",
       "AL    Albertville           93019            96774\n",
       "...                           ...              ...\n",
       "WY    Laramie               36299            38880\n",
       "      Riverton              40123            39261\n",
       "      Rock Springs          43806            42343\n",
       "      Sheridan              29116            30485\n",
       "WY-ID Jackson               31464            35606\n",
       "\n",
       "[926 rows x 2 columns]"
      ]
     },
     "execution_count": 27,
     "metadata": {},
     "output_type": "execute_result"
    }
   ],
   "source": [
    "### Query 3 ------------------------------\n",
    "#looking only at MSAs to avoid duplication, what is the total population by city and state in both 2010 and 2019?\n",
    "\n",
    "df[df['LSAD'].isin(['Metropolitan Statistical Area', 'Micropolitan Statistical Area'])].groupby(['STATE', 'CITY'])[['CENSUS2010POP', 'POPESTIMATE2019']].sum()"
   ]
  },
  {
   "cell_type": "markdown",
   "metadata": {},
   "source": [
    "MSAs should generally match one-to-one with cities, but if there are any cities containing multiple MSAs, we can now see the city-level population data for 2010 compared to 2019."
   ]
  },
  {
   "cell_type": "code",
   "execution_count": null,
   "metadata": {},
   "outputs": [],
   "source": []
  }
 ],
 "metadata": {
  "kernelspec": {
   "display_name": "Python 3",
   "language": "python",
   "name": "python3"
  },
  "language_info": {
   "codemirror_mode": {
    "name": "ipython",
    "version": 3
   },
   "file_extension": ".py",
   "mimetype": "text/x-python",
   "name": "python",
   "nbconvert_exporter": "python",
   "pygments_lexer": "ipython3",
   "version": "3.7.6"
  }
 },
 "nbformat": 4,
 "nbformat_minor": 4
}
